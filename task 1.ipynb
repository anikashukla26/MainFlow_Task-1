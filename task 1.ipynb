{
 "cells": [
  {
   "cell_type": "code",
   "execution_count": 3,
   "id": "a37ca7c3-9c21-4046-82ac-5e133a776b99",
   "metadata": {},
   "outputs": [
    {
     "name": "stdout",
     "output_type": "stream",
     "text": [
      "Updated New List [1, 2, 3, 4, 5]\n"
     ]
    }
   ],
   "source": [
    "#create a list\n",
    "my_list=[1,2,3,\"hello\",4.5]\n",
    "\n",
    "#adding element into the list\n",
    "my_list.append(5)\n",
    "\n",
    "#removing an existing element from the list\n",
    "my_list.remove(\"hello\")\n",
    "\n",
    "#modifying the list\n",
    "my_list[3]=4\n",
    "\n",
    "print(\"Updated New List\",my_list)"
   ]
  },
  {
   "cell_type": "code",
   "execution_count": 4,
   "id": "77a5e603-68f1-46ad-9766-a3dd4f803f1f",
   "metadata": {},
   "outputs": [
    {
     "name": "stdout",
     "output_type": "stream",
     "text": [
      "Updated New Dictionary {1: 10, 2: 20, 3: 70, 5: 50, 6: 60}\n"
     ]
    }
   ],
   "source": [
    "#create a disctionary\n",
    "my_dict={1:10, 2:20, 3:30, 4:40, 5:50}\n",
    "\n",
    "#adding key-value pair to this dictionary\n",
    "my_dict[6]=60\n",
    "\n",
    "#removing key-value pair from this dictionary\n",
    "del my_dict[4]\n",
    "\n",
    "#modifying the dictionary\n",
    "my_dict[3]=70\n",
    "\n",
    "print(\"Updated New Dictionary\", my_dict)"
   ]
  },
  {
   "cell_type": "code",
   "execution_count": 6,
   "id": "7d6499c5-0498-4948-91b0-5b72dfb80c4e",
   "metadata": {},
   "outputs": [
    {
     "name": "stdout",
     "output_type": "stream",
     "text": [
      "Updated New Set {False, 'Anika', 'Joes', 45, 78.9, 23, 56}\n"
     ]
    }
   ],
   "source": [
    "#create a set\n",
    "my_set={'T', True, 45, 23, 56, \"Joes\", 78.9}\n",
    "\n",
    "#adding element in my set\n",
    "my_set.add(\"Anika\")\n",
    "\n",
    "#removing element from the set\n",
    "my_set.remove('T')\n",
    "\n",
    "#modifying the set\n",
    "my_set.discard(True)\n",
    "my_set.add(False)\n",
    "\n",
    "print(\"Updated New Set\", my_set)"
   ]
  },
  {
   "cell_type": "code",
   "execution_count": null,
   "id": "80a2c2df-cbab-40a9-993b-3d1619e476cf",
   "metadata": {},
   "outputs": [],
   "source": []
  }
 ],
 "metadata": {
  "kernelspec": {
   "display_name": "Python 3 (ipykernel)",
   "language": "python",
   "name": "python3"
  },
  "language_info": {
   "codemirror_mode": {
    "name": "ipython",
    "version": 3
   },
   "file_extension": ".py",
   "mimetype": "text/x-python",
   "name": "python",
   "nbconvert_exporter": "python",
   "pygments_lexer": "ipython3",
   "version": "3.12.3"
  }
 },
 "nbformat": 4,
 "nbformat_minor": 5
}
